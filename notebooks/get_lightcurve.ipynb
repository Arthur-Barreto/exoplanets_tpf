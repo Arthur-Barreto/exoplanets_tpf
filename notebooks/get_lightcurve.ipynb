{
 "cells": [
  {
   "cell_type": "code",
   "execution_count": 1,
   "metadata": {},
   "outputs": [],
   "source": [
    "from pathlib import Path\n",
    "import pandas as pd\n",
    "from lightkurve import search_targetpixelfile\n",
    "import pickle"
   ]
  },
  {
   "cell_type": "code",
   "execution_count": 2,
   "metadata": {},
   "outputs": [],
   "source": [
    "LOG_FAILED = Path.cwd().parent / \"data\" / \"LOG_FAILED\" / \"failed.csv\"\n",
    "DATA_FOLDER = Path.cwd().parent / \"data\""
   ]
  },
  {
   "cell_type": "code",
   "execution_count": 3,
   "metadata": {},
   "outputs": [],
   "source": [
    "df = pd.read_csv(\"filtered_df.csv\")"
   ]
  },
  {
   "cell_type": "markdown",
   "metadata": {},
   "source": [
    "## Get lc "
   ]
  },
  {
   "cell_type": "code",
   "execution_count": null,
   "metadata": {},
   "outputs": [],
   "source": [
    "for hostname, disposition in zip(df_2.hostname, df_2.disposition):\n",
    "    try:\n",
    "        tpf = search_targetpixelfile(hostname, author=\"K2\", exptime=\"long\").download(\n",
    "            quality_bitmask=0\n",
    "        )\n",
    "        lc = (\n",
    "            tpf.to_lightcurve(aperture_mask=tpf.pipeline_mask)\n",
    "            .remove_nans()\n",
    "            .remove_outliers()\n",
    "            .flatten()\n",
    "        )\n",
    "\n",
    "        PATH = DATA_FOLDER / disposition / f\"{hostname}.pkl\"\n",
    "        with open(PATH, \"wb\") as file:\n",
    "            pickle.dump(lc, file)\n",
    "\n",
    "    except:\n",
    "        with open(LOG_FAILED, \"a\") as file:\n",
    "            file.write(f\"{hostname},{disposition}\\n\")\n"
   ]
  },
  {
   "cell_type": "markdown",
   "metadata": {},
   "source": [
    "## Check the number of files in each folder"
   ]
  },
  {
   "cell_type": "code",
   "execution_count": 7,
   "metadata": {},
   "outputs": [
    {
     "name": "stdout",
     "output_type": "stream",
     "text": [
      "CONFIRMED 346\n",
      "CANDIDATE 873\n",
      "FALSE POSITIVE 245\n"
     ]
    }
   ],
   "source": [
    "# get the number os files on DATA_FOLDER/disposition\n",
    "\n",
    "for disposition in df.disposition.unique():\n",
    "    print(disposition, len(list((DATA_FOLDER / disposition).glob(\"*.pkl\"))))"
   ]
  }
 ],
 "metadata": {
  "kernelspec": {
   "display_name": "base",
   "language": "python",
   "name": "python3"
  },
  "language_info": {
   "codemirror_mode": {
    "name": "ipython",
    "version": 3
   },
   "file_extension": ".py",
   "mimetype": "text/x-python",
   "name": "python",
   "nbconvert_exporter": "python",
   "pygments_lexer": "ipython3",
   "version": "3.11.5"
  }
 },
 "nbformat": 4,
 "nbformat_minor": 2
}
